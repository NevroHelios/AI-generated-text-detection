{
 "cells": [
  {
   "cell_type": "code",
   "execution_count": 1,
   "metadata": {},
   "outputs": [
    {
     "name": "stderr",
     "output_type": "stream",
     "text": [
      "c:\\Users\\dasha\\anaconda3\\envs\\text\\Lib\\site-packages\\tqdm\\auto.py:21: TqdmWarning: IProgress not found. Please update jupyter and ipywidgets. See https://ipywidgets.readthedocs.io/en/stable/user_install.html\n",
      "  from .autonotebook import tqdm as notebook_tqdm\n",
      "None of PyTorch, TensorFlow >= 2.0, or Flax have been found. Models won't be available and only tokenizers, configuration and file/data utilities can be used.\n"
     ]
    }
   ],
   "source": [
    "import sys\n",
    "import gc\n",
    "\n",
    "import pandas as pd\n",
    "from sklearn.model_selection import StratifiedKFold\n",
    "import numpy as np\n",
    "from sklearn.metrics import roc_auc_score, f1_score, accuracy_score, precision_score, recall_score, classification_report, confusion_matrix\n",
    "\n",
    "from sklearn.feature_extraction.text import TfidfVectorizer\n",
    "\n",
    "from tokenizers import (\n",
    "    decoders,\n",
    "    models,\n",
    "    normalizers,\n",
    "    pre_tokenizers,\n",
    "    processors,\n",
    "    trainers,\n",
    "    Tokenizer,\n",
    ")\n",
    "\n",
    "from tqdm.auto import tqdm\n",
    "from matplotlib import pyplot as plt\n",
    "import seaborn as sns\n",
    "from datasets import Dataset\n",
    "from transformers import PreTrainedTokenizerFast\n",
    "\n",
    "from sklearn.linear_model import SGDClassifier\n",
    "from sklearn.naive_bayes import MultinomialNB\n",
    "from sklearn.ensemble import VotingClassifier \n"
   ]
  },
  {
   "cell_type": "code",
   "execution_count": 2,
   "metadata": {},
   "outputs": [
    {
     "name": "stdout",
     "output_type": "stream",
     "text": [
      "Original shape (500, 3)\n",
      "Updated shape (499, 3)\n"
     ]
    }
   ],
   "source": [
    "df = pd.read_csv('labelled_train_set.csv')\n",
    "print(f\"Original shape {df.shape}\")\n",
    "df = df.drop_duplicates(subset=['Article'])\n",
    "df.reset_index(drop=True, inplace=True)\n",
    "print(f\"Updated shape {df.shape}\")"
   ]
  },
  {
   "cell_type": "code",
   "execution_count": 3,
   "metadata": {},
   "outputs": [
    {
     "data": {
      "text/plain": [
       "Type\n",
       "Human-written    385\n",
       "AI-generated     114\n",
       "Name: count, dtype: int64"
      ]
     },
     "execution_count": 3,
     "metadata": {},
     "output_type": "execute_result"
    }
   ],
   "source": [
    "df.Type.value_counts()"
   ]
  },
  {
   "cell_type": "code",
   "execution_count": 4,
   "metadata": {},
   "outputs": [
    {
     "data": {
      "text/html": [
       "<div>\n",
       "<style scoped>\n",
       "    .dataframe tbody tr th:only-of-type {\n",
       "        vertical-align: middle;\n",
       "    }\n",
       "\n",
       "    .dataframe tbody tr th {\n",
       "        vertical-align: top;\n",
       "    }\n",
       "\n",
       "    .dataframe thead th {\n",
       "        text-align: right;\n",
       "    }\n",
       "</style>\n",
       "<table border=\"1\" class=\"dataframe\">\n",
       "  <thead>\n",
       "    <tr style=\"text-align: right;\">\n",
       "      <th></th>\n",
       "      <th>ID</th>\n",
       "      <th>Article</th>\n",
       "      <th>Type</th>\n",
       "    </tr>\n",
       "  </thead>\n",
       "  <tbody>\n",
       "    <tr>\n",
       "      <th>494</th>\n",
       "      <td>TRAIN_496</td>\n",
       "      <td>Handwriting recognition technology has numerou...</td>\n",
       "      <td>AI-generated</td>\n",
       "    </tr>\n",
       "    <tr>\n",
       "      <th>495</th>\n",
       "      <td>TRAIN_497</td>\n",
       "      <td>Digital Rights Management (DRM) (sometimes als...</td>\n",
       "      <td>Human-written</td>\n",
       "    </tr>\n",
       "    <tr>\n",
       "      <th>496</th>\n",
       "      <td>TRAIN_498</td>\n",
       "      <td>A cookie is a small piece of data that is stor...</td>\n",
       "      <td>AI-generated</td>\n",
       "    </tr>\n",
       "    <tr>\n",
       "      <th>497</th>\n",
       "      <td>TRAIN_499</td>\n",
       "      <td>The hexadecimal system is a number system with...</td>\n",
       "      <td>AI-generated</td>\n",
       "    </tr>\n",
       "    <tr>\n",
       "      <th>498</th>\n",
       "      <td>TRAIN_500</td>\n",
       "      <td>Secure Hash A process which reduces a message ...</td>\n",
       "      <td>Human-written</td>\n",
       "    </tr>\n",
       "  </tbody>\n",
       "</table>\n",
       "</div>"
      ],
      "text/plain": [
       "            ID                                            Article  \\\n",
       "494  TRAIN_496  Handwriting recognition technology has numerou...   \n",
       "495  TRAIN_497  Digital Rights Management (DRM) (sometimes als...   \n",
       "496  TRAIN_498  A cookie is a small piece of data that is stor...   \n",
       "497  TRAIN_499  The hexadecimal system is a number system with...   \n",
       "498  TRAIN_500  Secure Hash A process which reduces a message ...   \n",
       "\n",
       "              Type  \n",
       "494   AI-generated  \n",
       "495  Human-written  \n",
       "496   AI-generated  \n",
       "497   AI-generated  \n",
       "498  Human-written  "
      ]
     },
     "execution_count": 4,
     "metadata": {},
     "output_type": "execute_result"
    }
   ],
   "source": [
    "df.tail()"
   ]
  },
  {
   "cell_type": "code",
   "execution_count": 5,
   "metadata": {},
   "outputs": [],
   "source": [
    "class2idx = {\"Human-written\": 0, \"AI-generated\": 1}\n",
    "df['target'] = df['Type'].map(class2idx)"
   ]
  },
  {
   "cell_type": "code",
   "execution_count": 6,
   "metadata": {},
   "outputs": [
    {
     "data": {
      "image/png": "[encoded data removed]",
      "text/plain": [
       "<Figure size 1000x800 with 1 Axes>"
      ]
     },
     "metadata": {},
     "output_type": "display_data"
    }
   ],
   "source": [
    "df['essay_length'] = df['Article'].apply(len)\n",
    "\n",
    "sns.set(style=\"darkgrid\")\n",
    "plt.figure(figsize=(10, 8))\n",
    "\n",
    "sns.histplot(df[df['target'] == 0]['essay_length'], color='green', label='Human-written', kde=True)\n",
    "\n",
    "sns.histplot(df[df['target'] == 1]['essay_length'], color='red', label='AI-generated', kde=True)\n",
    "\n",
    "plt.title(\"Essay Length Distribution\")\n",
    "plt.xlabel(\"Length (Number of Characters)\")\n",
    "plt.ylabel(\"Count\")\n",
    "plt.legend()\n",
    "plt.show()"
   ]
  },
  {
   "cell_type": "code",
   "execution_count": 7,
   "metadata": {},
   "outputs": [
    {
     "data": {
      "text/html": [
       "<div>\n",
       "<style scoped>\n",
       "    .dataframe tbody tr th:only-of-type {\n",
       "        vertical-align: middle;\n",
       "    }\n",
       "\n",
       "    .dataframe tbody tr th {\n",
       "        vertical-align: top;\n",
       "    }\n",
       "\n",
       "    .dataframe thead th {\n",
       "        text-align: right;\n",
       "    }\n",
       "</style>\n",
       "<table border=\"1\" class=\"dataframe\">\n",
       "  <thead>\n",
       "    <tr style=\"text-align: right;\">\n",
       "      <th></th>\n",
       "      <th>word_count</th>\n",
       "      <th>unique_word_count</th>\n",
       "      <th>sent_count</th>\n",
       "      <th>avg_word_len</th>\n",
       "    </tr>\n",
       "    <tr>\n",
       "      <th>target</th>\n",
       "      <th></th>\n",
       "      <th></th>\n",
       "      <th></th>\n",
       "      <th></th>\n",
       "    </tr>\n",
       "  </thead>\n",
       "  <tbody>\n",
       "    <tr>\n",
       "      <th>0</th>\n",
       "      <td>6.529870</td>\n",
       "      <td>6.015584</td>\n",
       "      <td>7.251948</td>\n",
       "      <td>6.328425</td>\n",
       "    </tr>\n",
       "    <tr>\n",
       "      <th>1</th>\n",
       "      <td>10.350877</td>\n",
       "      <td>8.991228</td>\n",
       "      <td>9.614035</td>\n",
       "      <td>7.501476</td>\n",
       "    </tr>\n",
       "  </tbody>\n",
       "</table>\n",
       "</div>"
      ],
      "text/plain": [
       "        word_count  unique_word_count  sent_count  avg_word_len\n",
       "target                                                         \n",
       "0         6.529870           6.015584    7.251948      6.328425\n",
       "1        10.350877           8.991228    9.614035      7.501476"
      ]
     },
     "execution_count": 7,
     "metadata": {},
     "output_type": "execute_result"
    }
   ],
   "source": [
    "def calculate_text_metrics_simple(text:str):\n",
    "    words = text.split()\n",
    "    sentences = text.split('.')\n",
    "    words = [word[:-1] for word in words if word.endswith(('.', '!', '?', ':'))]\n",
    "    word_count = len(words)\n",
    "    unique_word_count = len(set(words))\n",
    "    sent_count = len(sentences)\n",
    "    avg_word_len = sum(len(word) for word in words) / word_count if word_count > 0 else 0\n",
    "    return word_count, unique_word_count, sent_count, avg_word_len\n",
    "\n",
    "df['metrices'] = df['Article'].apply(calculate_text_metrics_simple)\n",
    "df[['word_count', 'unique_word_count', 'sent_count', 'avg_word_len']] = pd.DataFrame(df['metrices'].tolist(), index=df.index)\n",
    "\n",
    "df.drop('metrices', axis=1, inplace=True)\n",
    "comparison_metrices = df.groupby('target')[['word_count', 'unique_word_count', 'sent_count', 'avg_word_len']].mean(\n",
    "    numeric_only=True\n",
    ")\n",
    "comparison_metrices"
   ]
  },
  {
   "cell_type": "code",
   "execution_count": 8,
   "metadata": {},
   "outputs": [
    {
     "data": {
      "text/plain": [
       "((399, 9), (100, 9))"
      ]
     },
     "execution_count": 8,
     "metadata": {},
     "output_type": "execute_result"
    }
   ],
   "source": [
    "test = df.sample(frac=0.2, random_state=42)\n",
    "abt = df.drop(test.index)\n",
    "\n",
    "abt.shape, test.shape"
   ]
  },
  {
   "cell_type": "code",
   "execution_count": 9,
   "metadata": {},
   "outputs": [],
   "source": [
    "LOWERCASE = True\n",
    "VOCAB_SIZE = 30000"
   ]
  },
  {
   "cell_type": "code",
   "execution_count": 10,
   "metadata": {},
   "outputs": [
    {
     "name": "stderr",
     "output_type": "stream",
     "text": [
      "100%|██████████| 399/399 [00:00<00:00, 12776.97it/s]\n",
      "100%|██████████| 100/100 [00:00<00:00, 783.77it/s]\n",
      "100%|██████████| 399/399 [00:00<00:00, 757.67it/s]\n"
     ]
    }
   ],
   "source": [
    "raw_tokenizer = Tokenizer(models.BPE(unk_token='[UNK]'))\n",
    "\n",
    "raw_tokenizer.normalizer = normalizers.Sequence(\n",
    "    [normalizers.NFC()] + [normalizers.Lowercase()] if LOWERCASE else []\n",
    "    )\n",
    "raw_tokenizer.pre_tokenizer = pre_tokenizers.ByteLevel()\n",
    "\n",
    "special_tokens = ['[UNK]', '[PAD]', '[CLS]', '[SEP]', '[MASK]']\n",
    "trainer = trainers.BpeTrainer(vocab_size=VOCAB_SIZE, special_tokens=special_tokens)\n",
    "\n",
    "dataset = Dataset.from_pandas(abt[['Article']])\n",
    "\n",
    "def train_crop_iter():\n",
    "    for article in tqdm(dataset['Article']):\n",
    "        yield article\n",
    "\n",
    "raw_tokenizer.train_from_iterator(train_crop_iter(), trainer=trainer)\n",
    "\n",
    "tokenizer = PreTrainedTokenizerFast(\n",
    "    tokenizer_object=raw_tokenizer,\n",
    "    unk_token='[UNK]',\n",
    "    pad_token='[PAD]',\n",
    "    cls_token='[CLS]',\n",
    "    sep_token='[SEP]',\n",
    "    mask_token='[MASK]',\n",
    ")\n",
    "\n",
    "tokenized_texts_test = []\n",
    "for article in tqdm(test['Article']):\n",
    "    tokenized_texts_test.append(tokenizer.tokenize(article))\n",
    "    \n",
    "tokenized_texts_train = []\n",
    "for article in tqdm(abt['Article']):\n",
    "    tokenized_texts_train.append(tokenizer.tokenize(article))"
   ]
  },
  {
   "cell_type": "code",
   "execution_count": 11,
   "metadata": {},
   "outputs": [
    {
     "data": {
      "text/plain": [
       "['Ġweb',\n",
       " 'Ġservices',\n",
       " 'Ġcan',\n",
       " 'Ġbe',\n",
       " 'Ġaccessed',\n",
       " 'Ġusing',\n",
       " 'Ġa',\n",
       " 'Ġvariety',\n",
       " 'Ġof',\n",
       " 'Ġprotocols']"
      ]
     },
     "execution_count": 11,
     "metadata": {},
     "output_type": "execute_result"
    }
   ],
   "source": [
    "tokenized_texts_test[3][:10]"
   ]
  },
  {
   "cell_type": "code",
   "execution_count": 12,
   "metadata": {},
   "outputs": [],
   "source": [
    "def dummy(text):\n",
    "    return text"
   ]
  },
  {
   "cell_type": "code",
   "execution_count": 13,
   "metadata": {},
   "outputs": [
    {
     "data": {
      "text/plain": [
       "107"
      ]
     },
     "execution_count": 13,
     "metadata": {},
     "output_type": "execute_result"
    }
   ],
   "source": [
    "vectorizer = TfidfVectorizer(ngram_range=(3, 5),\n",
    "                             lowercase=False,\n",
    "                             sublinear_tf=True,\n",
    "                             analyzer='word',\n",
    "                             tokenizer=dummy,\n",
    "                             preprocessor=dummy,\n",
    "                             token_pattern=None,\n",
    "                             strip_accents='unicode')\n",
    "\n",
    "# fitting tie tokenizer on test set\n",
    "vectorizer.fit(tokenized_texts_test)\n",
    "vocab = vectorizer.vocabulary_\n",
    "\n",
    "# print(vocab)\n",
    "\n",
    "# fitting it in train set\n",
    "vectorizer.fit(tokenized_texts_train)\n",
    "vocab = vectorizer.vocabulary_\n",
    "\n",
    "# print(vocab)\n",
    "\n",
    "tf_train = vectorizer.fit_transform(tokenized_texts_train)\n",
    "tf_test = vectorizer.transform(tokenized_texts_test)\n",
    "\n",
    "del vectorizer\n",
    "gc.collect()"
   ]
  },
  {
   "cell_type": "code",
   "execution_count": 14,
   "metadata": {},
   "outputs": [
    {
     "data": {
      "text/plain": [
       "array([0, 0, 0, 0, 0, 0, 1, 1, 1, 1], dtype=int64)"
      ]
     },
     "execution_count": 14,
     "metadata": {},
     "output_type": "execute_result"
    }
   ],
   "source": [
    "y_train = abt['target'].values\n",
    "y_train[:10]"
   ]
  },
  {
   "cell_type": "code",
   "execution_count": 15,
   "metadata": {},
   "outputs": [
    {
     "data": {
      "text/plain": [
       "<399x191178 sparse matrix of type '<class 'numpy.float64'>'\n",
       "\twith 202501 stored elements in Compressed Sparse Row format>"
      ]
     },
     "execution_count": 15,
     "metadata": {},
     "output_type": "execute_result"
    }
   ],
   "source": [
    "tf_train"
   ]
  },
  {
   "cell_type": "code",
   "execution_count": 16,
   "metadata": {},
   "outputs": [
    {
     "data": {
      "text/plain": [
       "((399, 191178), (100, 191178))"
      ]
     },
     "execution_count": 16,
     "metadata": {},
     "output_type": "execute_result"
    }
   ],
   "source": [
    "tf_train.shape, tf_test.shape"
   ]
  },
  {
   "cell_type": "code",
   "execution_count": 17,
   "metadata": {},
   "outputs": [
    {
     "data": {
      "text/plain": [
       "4668"
      ]
     },
     "execution_count": 17,
     "metadata": {},
     "output_type": "execute_result"
    }
   ],
   "source": [
    "bayes_model = MultinomialNB(alpha=0.03)\n",
    "sgd_model = SGDClassifier(max_iter=6000, tol=1e-3, loss='modified_huber')\n",
    "\n",
    "ensemble = VotingClassifier(estimators=[('sgd', sgd_model), ('bayes', bayes_model)],\n",
    "                            weights=[0.7, 0.3],\n",
    "                            voting='soft')\n",
    "ensemble.fit(tf_train, y_train)\n",
    "\n",
    "gc.collect()"
   ]
  },
  {
   "cell_type": "code",
   "execution_count": 18,
   "metadata": {},
   "outputs": [
    {
     "data": {
      "text/plain": [
       "array([0, 0, 0, 1, 0, 0, 0, 0, 0, 1, 0, 0, 1, 0, 1, 1, 1, 0, 0, 0, 0, 0,\n",
       "       0, 0, 0, 1, 0, 0, 1, 0, 0, 0, 0, 0, 0, 1, 0, 0, 0, 1, 0, 0, 0, 0,\n",
       "       0, 1, 0, 0, 1, 0, 0, 0, 0, 1, 0, 1, 0, 1, 0, 0, 0, 0, 0, 0, 1, 0,\n",
       "       0, 0, 0, 0, 0, 0, 1, 0, 0, 0, 0, 1, 1, 0, 0, 0, 0, 0, 0, 0, 0, 0,\n",
       "       0, 0, 0, 1, 0, 0, 1, 0, 0, 0, 0, 0], dtype=int64)"
      ]
     },
     "execution_count": 18,
     "metadata": {},
     "output_type": "execute_result"
    }
   ],
   "source": [
    "test_preds = ensemble.predict(tf_test)\n",
    "test_preds"
   ]
  },
  {
   "cell_type": "code",
   "execution_count": 19,
   "metadata": {},
   "outputs": [],
   "source": [
    "def score(y_true, y_pred):\n",
    "    print(f\"Accuracy: {accuracy_score(y_true, y_pred):.3f}\")\n",
    "    print(f\"Precision: {precision_score(y_true, y_pred):.3f}\")\n",
    "    print(f\"Recall: {recall_score(y_true, y_pred):.3f}\")\n",
    "    print(f\"F1: {f1_score(y_true, y_pred):.3f}\")\n",
    "    print()\n",
    "    print(classification_report(y_true, y_pred))\n",
    "    print()\n",
    "    print(confusion_matrix(y_true, y_pred))"
   ]
  },
  {
   "cell_type": "code",
   "execution_count": 20,
   "metadata": {},
   "outputs": [
    {
     "name": "stdout",
     "output_type": "stream",
     "text": [
      "Accuracy: 0.980\n",
      "Precision: 1.000\n",
      "Recall: 0.913\n",
      "F1: 0.955\n",
      "\n",
      "              precision    recall  f1-score   support\n",
      "\n",
      "           0       0.97      1.00      0.99        77\n",
      "           1       1.00      0.91      0.95        23\n",
      "\n",
      "    accuracy                           0.98       100\n",
      "   macro avg       0.99      0.96      0.97       100\n",
      "weighted avg       0.98      0.98      0.98       100\n",
      "\n",
      "\n",
      "[[77  0]\n",
      " [ 2 21]]\n"
     ]
    }
   ],
   "source": [
    "score(test['target'].values, test_preds)"
   ]
  },
  {
   "cell_type": "code",
   "execution_count": 21,
   "metadata": {},
   "outputs": [],
   "source": [
    "import pickle \n",
    "\n",
    "with open('model_a980f955.pkl', 'wb') as f:\n",
    "    pickle.dump(ensemble, f)"
   ]
  },
  {
   "cell_type": "code",
   "execution_count": null,
   "metadata": {},
   "outputs": [],
   "source": []
  }
 ],
 "metadata": {
  "kernelspec": {
   "display_name": "text",
   "language": "python",
   "name": "python3"
  },
  "language_info": {
   "codemirror_mode": {
    "name": "ipython",
    "version": 3
   },
   "file_extension": ".py",
   "mimetype": "text/x-python",
   "name": "python",
   "nbconvert_exporter": "python",
   "pygments_lexer": "ipython3",
   "version": "3.12.0"
  }
 },
 "nbformat": 4,
 "nbformat_minor": 2
}
